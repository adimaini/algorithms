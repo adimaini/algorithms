{
 "cells": [
  {
   "cell_type": "code",
   "execution_count": 2,
   "metadata": {
    "ExecuteTime": {
     "end_time": "2020-04-25T22:38:13.317707Z",
     "start_time": "2020-04-25T22:38:09.931548Z"
    }
   },
   "outputs": [],
   "source": [
    "%matplotlib inline\n",
    "\n",
    "from qiskit import IBMQ, QuantumCircuit, execute, Aer\n",
    "import csv\n",
    "import random"
   ]
  },
  {
   "cell_type": "markdown",
   "metadata": {},
   "source": [
    "Account Access"
   ]
  },
  {
   "cell_type": "code",
   "execution_count": 8,
   "metadata": {
    "ExecuteTime": {
     "end_time": "2020-04-25T22:45:44.177148Z",
     "start_time": "2020-04-25T22:45:40.967668Z"
    },
    "scrolled": false
   },
   "outputs": [
    {
     "name": "stderr",
     "output_type": "stream",
     "text": [
      "configrc.store_credentials:WARNING:2020-04-25 18:45:40,972: Credentials already present. Set overwrite=True to overwrite.\n",
      "ibmqfactory.load_account:WARNING:2020-04-25 18:45:41,286: Credentials are already in use. The existing account in the session will be replaced.\n"
     ]
    },
    {
     "name": "stdout",
     "output_type": "stream",
     "text": [
      "\n",
      "These are the backends available to use....\n",
      "\n",
      "[<IBMQSimulator('ibmq_qasm_simulator') from IBMQ(hub='ibm-q', group='open', project='main')>, <IBMQBackend('ibmqx2') from IBMQ(hub='ibm-q', group='open', project='main')>, <IBMQBackend('ibmq_16_melbourne') from IBMQ(hub='ibm-q', group='open', project='main')>, <IBMQBackend('ibmq_vigo') from IBMQ(hub='ibm-q', group='open', project='main')>, <IBMQBackend('ibmq_ourense') from IBMQ(hub='ibm-q', group='open', project='main')>, <IBMQBackend('ibmq_london') from IBMQ(hub='ibm-q', group='open', project='main')>, <IBMQBackend('ibmq_burlington') from IBMQ(hub='ibm-q', group='open', project='main')>, <IBMQBackend('ibmq_essex') from IBMQ(hub='ibm-q', group='open', project='main')>, <IBMQBackend('ibmq_armonk') from IBMQ(hub='ibm-q', group='open', project='main')>, <IBMQBackend('ibmq_rome') from IBMQ(hub='ibm-q', group='open', project='main')>]\n",
      "\n",
      "\n",
      "Backend being used:  ibmqx2\n",
      "['u1', 'u2', 'u3', 'cx', 'id']\n"
     ]
    }
   ],
   "source": [
    "\n",
    "API_TOKEN = '7f744419bf02c5ad2935c5bad2d858f150f3793da866268cd5c0841bc531c8a72a4484d4c59bf3afa44c29e7859a875cf0634104707aa341424b662acd7c4655'\n",
    "\n",
    "IBMQ.save_account(API_TOKEN)\n",
    "IBMQ.load_account()\n",
    "# each provider has multiple backends\n",
    "provider = IBMQ.get_provider(hub='ibm-q', group='open', project='main')\n",
    "#asking a provider for their \n",
    "print('\\nThese are the backends available to use....\\n')\n",
    "print(provider.backends())\n",
    "\n",
    "backend = provider.get_backend('ibmqx2')\n",
    "print('\\n\\nBackend being used: ', backend)\n",
    "print(backend.configuration().basis_gates)"
   ]
  },
  {
   "cell_type": "code",
   "execution_count": 9,
   "metadata": {
    "ExecuteTime": {
     "end_time": "2020-04-25T22:45:46.994119Z",
     "start_time": "2020-04-25T22:45:46.806916Z"
    }
   },
   "outputs": [
    {
     "data": {
      "image/png": "[encoded data removed]",
      "text/plain": [
       "<Figure size 534.576x144.48 with 1 Axes>"
      ]
     },
     "execution_count": 9,
     "metadata": {},
     "output_type": "execute_result"
    }
   ],
   "source": [
    "# Quantum circuit configuration\n",
    "heads_circuit = QuantumCircuit(1,1)\n",
    "tails_circuit = QuantumCircuit(1,1)\n",
    "\n",
    "#  heads circuit config\n",
    "heads_circuit.h(0)\n",
    "heads_circuit.x(0)\n",
    "heads_circuit.h(0)\n",
    "heads_circuit.measure(range(1), range(1))\n",
    "\n",
    "#  tails circuit config\n",
    "tails_circuit.h(0)\n",
    "tails_circuit.h(0)\n",
    "tails_circuit.measure(range(1), range(1))\n",
    "\n",
    "#  decompose our original quantum circuits to essex basis\n",
    "qc_basis = heads_circuit.decompose()\n",
    "qc_basis.draw(output = 'mpl')"
   ]
  },
  {
   "cell_type": "code",
   "execution_count": null,
   "metadata": {},
   "outputs": [],
   "source": []
  }
 ],
 "metadata": {
  "kernelspec": {
   "display_name": "Python 3",
   "language": "python",
   "name": "python3"
  },
  "language_info": {
   "codemirror_mode": {
    "name": "ipython",
    "version": 3
   },
   "file_extension": ".py",
   "mimetype": "text/x-python",
   "name": "python",
   "nbconvert_exporter": "python",
   "pygments_lexer": "ipython3",
   "version": "3.7.4"
  }
 },
 "nbformat": 4,
 "nbformat_minor": 2
}
